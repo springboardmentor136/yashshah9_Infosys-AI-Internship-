{
 "cells": [
  {
   "cell_type": "code",
   "execution_count": 25,
   "id": "3e220baa-44b3-42f6-9509-69f2768480dc",
   "metadata": {},
   "outputs": [
    {
     "name": "stdout",
     "output_type": "stream",
     "text": [
      "saved...... 0\n",
      "clear screen now and redraw now........\n",
      "saved...... 1\n",
      "clear screen now and redraw now........\n",
      "saved...... 2\n",
      "clear screen now and redraw now........\n",
      "saved...... 3\n",
      "clear screen now and redraw now........\n",
      "saved...... 4\n",
      "clear screen now and redraw now........\n"
     ]
    },
    {
     "ename": "KeyboardInterrupt",
     "evalue": "",
     "output_type": "error",
     "traceback": [
      "\u001b[1;31m---------------------------------------------------------------------------\u001b[0m",
      "\u001b[1;31mKeyboardInterrupt\u001b[0m                         Traceback (most recent call last)",
      "Cell \u001b[1;32mIn[25], line 6\u001b[0m\n\u001b[0;32m      3\u001b[0m images_folder\u001b[38;5;241m=\u001b[39m\u001b[38;5;124m\"\u001b[39m\u001b[38;5;124mcaptured_images/9/\u001b[39m\u001b[38;5;124m\"\u001b[39m\n\u001b[0;32m      5\u001b[0m \u001b[38;5;28;01mfor\u001b[39;00m i \u001b[38;5;129;01min\u001b[39;00m \u001b[38;5;28mrange\u001b[39m(\u001b[38;5;241m0\u001b[39m,\u001b[38;5;241m100\u001b[39m):\n\u001b[1;32m----> 6\u001b[0m    \u001b[43mtime\u001b[49m\u001b[38;5;241;43m.\u001b[39;49m\u001b[43msleep\u001b[49m\u001b[43m(\u001b[49m\u001b[38;5;241;43m8\u001b[39;49m\u001b[43m)\u001b[49m\n\u001b[0;32m      7\u001b[0m    im\u001b[38;5;241m=\u001b[39mImageGrab\u001b[38;5;241m.\u001b[39mgrab(bbox\u001b[38;5;241m=\u001b[39m(\u001b[38;5;241m60\u001b[39m,\u001b[38;5;241m170\u001b[39m,\u001b[38;5;241m400\u001b[39m,\u001b[38;5;241m550\u001b[39m)) \u001b[38;5;66;03m#x1,y1,x2,y2\u001b[39;00m\n\u001b[0;32m      8\u001b[0m    \u001b[38;5;28mprint\u001b[39m(\u001b[38;5;124m\"\u001b[39m\u001b[38;5;124msaved......\u001b[39m\u001b[38;5;124m\"\u001b[39m,i)\n",
      "\u001b[1;31mKeyboardInterrupt\u001b[0m: "
     ]
    }
   ],
   "source": [
    "import pyscreenshot as ImageGrab\n",
    "import time\n",
    "images_folder=\"captured_images/9/\"\n",
    "  \n",
    "for i in range(0,100):\n",
    "   time.sleep(8)\n",
    "   im=ImageGrab.grab(bbox=(60,170,400,550)) #x1,y1,x2,y2\n",
    "   print(\"saved......\",i)\n",
    "   im.save(images_folder+str(i)+'.png')\n",
    "   print(\"clear screen now and redraw now........\")\n",
    "\n"
   ]
  },
  {
   "cell_type": "code",
   "execution_count": 27,
   "id": "28198f6b-778c-4ff0-97e8-7136c1931b47",
   "metadata": {},
   "outputs": [],
   "source": [
    "#Generate dataset\n",
    "import cv2\n",
    "import csv\n",
    "import glob\n",
    "  \n",
    "header  =[\"label\"]\n",
    "for i in range(0,784):\n",
    "   header.append(\"pixel\"+str(i))\n",
    "with open('dataset.csv', 'a') as f:\n",
    "   writer = csv.writer(f)\n",
    "   writer.writerow(header)\n",
    "    \n",
    "for label in range(10):\n",
    "   dirList = glob.glob(\"captured_images/\"+str(label)+\"/*.png\")\n",
    "    \n",
    "   for img_path in dirList:\n",
    "       im= cv2.imread(img_path)\n",
    "       im_gray = cv2.cvtColor(im,cv2.COLOR_BGR2GRAY)\n",
    "       im_gray = cv2.GaussianBlur(im_gray,(15,15), 0)\n",
    "       roi= cv2.resize(im_gray,(28,28), interpolation=cv2.INTER_AREA)\n",
    "        \n",
    "       data=[]\n",
    "       data.append(label)\n",
    "       rows, cols = roi.shape\n",
    "        \n",
    "       ## Fill the data array with pixels one by one.\n",
    "       for i in range(rows):\n",
    "           for j in range(cols):\n",
    "               k =roi[i,j]\n",
    "               if k>100:\n",
    "                   k=1\n",
    "               else:\n",
    "                   k=0\n",
    "               data.append(k)\n",
    "       with open('dataset.csv', 'a') as f:\n",
    "           writer = csv.writer(f)\n",
    "           writer.writerow(data)\n"
   ]
  },
  {
   "cell_type": "code",
   "execution_count": 29,
   "id": "51fc8e5b-d813-4d14-8306-6a5e742ca532",
   "metadata": {},
   "outputs": [
    {
     "name": "stdout",
     "output_type": "stream",
     "text": [
      "    label  pixel0  pixel1  pixel2  pixel3  pixel4  pixel5  pixel6  pixel7  \\\n",
      "27      5       0       0       0       0       0       0       0       0   \n",
      "5       1       0       0       0       0       0       0       0       0   \n",
      "26      5       0       0       0       0       0       0       0       0   \n",
      "13      2       0       0       0       0       0       0       0       0   \n",
      "2       0       0       0       0       0       0       0       0       0   \n",
      "48      9       0       0       0       0       0       0       0       0   \n",
      "25      5       0       0       0       0       0       0       0       0   \n",
      "8       1       0       0       0       0       0       0       0       0   \n",
      "0       0       0       0       0       0       0       0       0       0   \n",
      "16      3       0       0       0       0       0       0       0       0   \n",
      "31      6       0       0       0       0       0       0       0       0   \n",
      "4       0       0       0       0       0       0       0       0       0   \n",
      "35      7       0       0       0       0       0       0       0       0   \n",
      "38      7       0       0       0       0       0       0       0       0   \n",
      "14      2       0       0       0       0       0       0       0       0   \n",
      "15      3       0       0       0       0       0       0       0       0   \n",
      "41      8       0       0       0       0       0       0       0       0   \n",
      "33      6       0       0       0       0       0       0       0       0   \n",
      "30      6       0       0       0       0       0       0       0       0   \n",
      "45      9       0       0       0       0       0       0       0       0   \n",
      "32      6       0       0       0       0       0       0       0       0   \n",
      "7       1       0       0       0       0       0       0       0       0   \n",
      "22      4       0       0       0       0       0       0       0       0   \n",
      "11      2       0       0       0       0       0       0       0       0   \n",
      "46      9       0       0       0       0       0       0       0       0   \n",
      "21      4       0       0       0       0       0       0       0       0   \n",
      "42      8       0       0       0       0       0       0       0       0   \n",
      "28      5       0       0       0       0       0       0       0       0   \n",
      "23      4       0       0       0       0       0       0       0       0   \n",
      "40      8       0       0       0       0       0       0       0       0   \n",
      "37      7       0       0       0       0       0       0       0       0   \n",
      "9       1       0       0       0       0       0       0       0       0   \n",
      "49      9       0       0       0       0       0       0       0       0   \n",
      "10      2       0       0       0       0       0       0       0       0   \n",
      "47      9       0       0       0       0       0       0       0       0   \n",
      "1       0       0       0       0       0       0       0       0       0   \n",
      "3       0       0       0       0       0       0       0       0       0   \n",
      "24      4       0       0       0       0       0       0       0       0   \n",
      "34      6       0       0       0       0       0       0       0       0   \n",
      "29      5       0       0       0       0       0       0       0       0   \n",
      "39      7       0       0       0       0       0       0       0       0   \n",
      "6       1       0       0       0       0       0       0       0       0   \n",
      "36      7       0       0       0       0       0       0       0       0   \n",
      "44      8       0       0       0       0       0       0       0       0   \n",
      "43      8       0       0       0       0       0       0       0       0   \n",
      "20      4       0       0       0       0       0       0       0       0   \n",
      "18      3       0       0       0       0       0       0       0       0   \n",
      "17      3       0       0       0       0       0       0       0       0   \n",
      "12      2       0       0       0       0       0       0       0       0   \n",
      "19      3       0       0       0       0       0       0       0       0   \n",
      "\n",
      "    pixel8  ...  pixel774  pixel775  pixel776  pixel777  pixel778  pixel779  \\\n",
      "27       0  ...         0         0         0         0         0         0   \n",
      "5        0  ...         0         0         0         0         0         0   \n",
      "26       0  ...         0         0         0         0         0         0   \n",
      "13       0  ...         0         0         0         0         0         0   \n",
      "2        0  ...         0         0         0         0         0         0   \n",
      "48       0  ...         0         0         0         0         0         0   \n",
      "25       0  ...         0         0         0         0         0         0   \n",
      "8        0  ...         0         0         0         0         0         0   \n",
      "0        0  ...         0         0         0         0         0         0   \n",
      "16       0  ...         0         0         0         0         0         0   \n",
      "31       0  ...         0         0         0         0         0         0   \n",
      "4        0  ...         0         0         0         0         0         0   \n",
      "35       0  ...         0         0         0         0         0         0   \n",
      "38       0  ...         0         0         0         0         0         0   \n",
      "14       0  ...         0         0         0         0         0         0   \n",
      "15       0  ...         0         0         0         0         0         0   \n",
      "41       0  ...         0         0         0         0         0         0   \n",
      "33       0  ...         0         0         0         0         0         0   \n",
      "30       0  ...         0         0         0         0         0         0   \n",
      "45       0  ...         0         0         0         0         0         0   \n",
      "32       0  ...         0         0         0         0         0         0   \n",
      "7        0  ...         0         0         0         0         0         0   \n",
      "22       0  ...         0         0         0         0         0         0   \n",
      "11       0  ...         0         0         0         0         0         0   \n",
      "46       0  ...         0         0         0         0         0         0   \n",
      "21       0  ...         0         0         0         0         0         0   \n",
      "42       0  ...         0         0         0         0         0         0   \n",
      "28       0  ...         0         0         0         0         0         0   \n",
      "23       0  ...         0         0         0         0         0         0   \n",
      "40       0  ...         0         0         0         0         0         0   \n",
      "37       0  ...         0         0         0         0         0         0   \n",
      "9        0  ...         0         0         0         0         0         0   \n",
      "49       0  ...         0         0         0         0         0         0   \n",
      "10       0  ...         0         0         0         0         0         0   \n",
      "47       0  ...         0         0         0         0         0         0   \n",
      "1        0  ...         0         0         0         0         0         0   \n",
      "3        0  ...         0         0         0         0         0         0   \n",
      "24       0  ...         0         0         0         0         0         0   \n",
      "34       0  ...         0         0         0         0         0         0   \n",
      "29       0  ...         0         0         0         0         0         0   \n",
      "39       0  ...         0         0         0         0         0         0   \n",
      "6        0  ...         0         0         0         0         0         0   \n",
      "36       0  ...         0         0         0         0         0         0   \n",
      "44       0  ...         0         0         0         0         0         0   \n",
      "43       0  ...         0         0         0         0         0         0   \n",
      "20       0  ...         0         0         0         0         0         0   \n",
      "18       0  ...         0         0         0         0         0         0   \n",
      "17       0  ...         0         0         0         0         0         0   \n",
      "12       0  ...         0         0         0         0         0         0   \n",
      "19       0  ...         0         0         0         0         0         0   \n",
      "\n",
      "    pixel780  pixel781  pixel782  pixel783  \n",
      "27         0         0         0         0  \n",
      "5          0         0         0         0  \n",
      "26         0         0         0         0  \n",
      "13         0         0         0         0  \n",
      "2          0         0         0         0  \n",
      "48         0         0         0         0  \n",
      "25         0         0         0         0  \n",
      "8          0         0         0         0  \n",
      "0          0         0         0         0  \n",
      "16         0         0         0         0  \n",
      "31         0         0         0         0  \n",
      "4          0         0         0         0  \n",
      "35         0         0         0         0  \n",
      "38         0         0         0         0  \n",
      "14         0         0         0         0  \n",
      "15         0         0         0         0  \n",
      "41         0         0         0         0  \n",
      "33         0         0         0         0  \n",
      "30         0         0         0         0  \n",
      "45         0         0         0         0  \n",
      "32         0         0         0         0  \n",
      "7          0         0         0         0  \n",
      "22         0         0         0         0  \n",
      "11         0         0         0         0  \n",
      "46         0         0         0         0  \n",
      "21         0         0         0         0  \n",
      "42         0         0         0         0  \n",
      "28         0         0         0         0  \n",
      "23         0         0         0         0  \n",
      "40         0         0         0         0  \n",
      "37         0         0         0         0  \n",
      "9          0         0         0         0  \n",
      "49         0         0         0         0  \n",
      "10         0         0         0         0  \n",
      "47         0         0         0         0  \n",
      "1          0         0         0         0  \n",
      "3          0         0         0         0  \n",
      "24         0         0         0         0  \n",
      "34         0         0         0         0  \n",
      "29         0         0         0         0  \n",
      "39         0         0         0         0  \n",
      "6          0         0         0         0  \n",
      "36         0         0         0         0  \n",
      "44         0         0         0         0  \n",
      "43         0         0         0         0  \n",
      "20         0         0         0         0  \n",
      "18         0         0         0         0  \n",
      "17         0         0         0         0  \n",
      "12         0         0         0         0  \n",
      "19         0         0         0         0  \n",
      "\n",
      "[50 rows x 785 columns]\n"
     ]
    }
   ],
   "source": [
    "import pandas as pd #pip install pandas\n",
    "from sklearn.utils import shuffle #pip install scikit-learn\n",
    "#0,....,1.....,2.....\n",
    "#5,3,1,0,2,5,.......\n",
    " \n",
    "data = pd.read_csv('dataset.csv')\n",
    "data = shuffle(data)\n",
    "print(data)"
   ]
  },
  {
   "cell_type": "code",
   "execution_count": 30,
   "id": "713ecef6-62ed-4308-a35d-1e46de5b1d82",
   "metadata": {},
   "outputs": [],
   "source": [
    "X = data.drop([\"label\"],axis=1)\n",
    "Y= data[\"label\"]"
   ]
  },
  {
   "cell_type": "code",
   "execution_count": 34,
   "id": "8f291b77-b530-46c8-bf7a-520faae85011",
   "metadata": {},
   "outputs": [
    {
     "name": "stdout",
     "output_type": "stream",
     "text": [
      "0\n"
     ]
    },
    {
     "data": {
      "text/plain": [
       "<matplotlib.image.AxesImage at 0x3bc1a2f6e0>"
      ]
     },
     "execution_count": 34,
     "metadata": {},
     "output_type": "execute_result"
    },
    {
     "data": {
      "image/png": "[encoded data removed]",
      "text/plain": [
       "<Figure size 640x480 with 1 Axes>"
      ]
     },
     "metadata": {},
     "output_type": "display_data"
    }
   ],
   "source": [
    "%matplotlib inline\n",
    "import matplotlib.pyplot as plt\n",
    "import cv2\n",
    "idx = 314\n",
    "img = X.loc[idx].values.reshape(28,28)\n",
    "print(Y[idx])\n",
    "plt.imshow(img)\n"
   ]
  },
  {
   "cell_type": "code",
   "execution_count": 35,
   "id": "cb626bb2-d28e-4026-850d-1d178ec26ae6",
   "metadata": {},
   "outputs": [],
   "source": [
    "from sklearn.model_selection import train_test_split\n",
    "train_x,test_x,train_y,test_y = train_test_split(X,Y, test_size = 0.2)"
   ]
  },
  {
   "cell_type": "code",
   "execution_count": 36,
   "id": "e50624b6-6f5e-4075-846d-a90688e59094",
   "metadata": {},
   "outputs": [
    {
     "ename": "FileNotFoundError",
     "evalue": "[Errno 2] No such file or directory: 'model/digit_recognizer'",
     "output_type": "error",
     "traceback": [
      "\u001b[1;31m---------------------------------------------------------------------------\u001b[0m",
      "\u001b[1;31mFileNotFoundError\u001b[0m                         Traceback (most recent call last)",
      "Cell \u001b[1;32mIn[36], line 5\u001b[0m\n\u001b[0;32m      3\u001b[0m classifier\u001b[38;5;241m=\u001b[39mSVC(kernel\u001b[38;5;241m=\u001b[39m\u001b[38;5;124m\"\u001b[39m\u001b[38;5;124mlinear\u001b[39m\u001b[38;5;124m\"\u001b[39m, random_state\u001b[38;5;241m=\u001b[39m\u001b[38;5;241m6\u001b[39m)\n\u001b[0;32m      4\u001b[0m classifier\u001b[38;5;241m.\u001b[39mfit(train_x,train_y)\n\u001b[1;32m----> 5\u001b[0m \u001b[43mjoblib\u001b[49m\u001b[38;5;241;43m.\u001b[39;49m\u001b[43mdump\u001b[49m\u001b[43m(\u001b[49m\u001b[43mclassifier\u001b[49m\u001b[43m,\u001b[49m\u001b[43m \u001b[49m\u001b[38;5;124;43m\"\u001b[39;49m\u001b[38;5;124;43mmodel/digit_recognizer\u001b[39;49m\u001b[38;5;124;43m\"\u001b[39;49m\u001b[43m)\u001b[49m\n",
      "File \u001b[1;32mH:\\django\\my_venv\\Lib\\site-packages\\joblib\\numpy_pickle.py:552\u001b[0m, in \u001b[0;36mdump\u001b[1;34m(value, filename, compress, protocol, cache_size)\u001b[0m\n\u001b[0;32m    550\u001b[0m         NumpyPickler(f, protocol\u001b[38;5;241m=\u001b[39mprotocol)\u001b[38;5;241m.\u001b[39mdump(value)\n\u001b[0;32m    551\u001b[0m \u001b[38;5;28;01melif\u001b[39;00m is_filename:\n\u001b[1;32m--> 552\u001b[0m     \u001b[38;5;28;01mwith\u001b[39;00m \u001b[38;5;28;43mopen\u001b[39;49m\u001b[43m(\u001b[49m\u001b[43mfilename\u001b[49m\u001b[43m,\u001b[49m\u001b[43m \u001b[49m\u001b[38;5;124;43m'\u001b[39;49m\u001b[38;5;124;43mwb\u001b[39;49m\u001b[38;5;124;43m'\u001b[39;49m\u001b[43m)\u001b[49m \u001b[38;5;28;01mas\u001b[39;00m f:\n\u001b[0;32m    553\u001b[0m         NumpyPickler(f, protocol\u001b[38;5;241m=\u001b[39mprotocol)\u001b[38;5;241m.\u001b[39mdump(value)\n\u001b[0;32m    554\u001b[0m \u001b[38;5;28;01melse\u001b[39;00m:\n",
      "\u001b[1;31mFileNotFoundError\u001b[0m: [Errno 2] No such file or directory: 'model/digit_recognizer'"
     ]
    }
   ],
   "source": [
    "import joblib\n",
    "from sklearn.svm import SVC\n",
    "classifier=SVC(kernel=\"linear\", random_state=6)\n",
    "classifier.fit(train_x,train_y)\n",
    "joblib.dump(classifier, \"model/digit_recognizer\")\n"
   ]
  },
  {
   "cell_type": "code",
   "execution_count": null,
   "id": "73a81db3-79ea-4af6-8185-69db3be3007b",
   "metadata": {},
   "outputs": [],
   "source": []
  }
 ],
 "metadata": {
  "kernelspec": {
   "display_name": "Python 3 (ipykernel)",
   "language": "python",
   "name": "python3"
  },
  "language_info": {
   "codemirror_mode": {
    "name": "ipython",
    "version": 3
   },
   "file_extension": ".py",
   "mimetype": "text/x-python",
   "name": "python",
   "nbconvert_exporter": "python",
   "pygments_lexer": "ipython3",
   "version": "3.12.2"
  }
 },
 "nbformat": 4,
 "nbformat_minor": 5
}

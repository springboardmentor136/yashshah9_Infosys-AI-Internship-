{
  "nbformat": 4,
  "nbformat_minor": 0,
  "metadata": {
    "colab": {
      "provenance": []
    },
    "kernelspec": {
      "name": "python3",
      "display_name": "Python 3"
    },
    "language_info": {
      "name": "python"
    }
  },
  "cells": [
    {
      "cell_type": "code",
      "execution_count": 1,
      "metadata": {
        "id": "Nx60JbkXl8Kz"
      },
      "outputs": [],
      "source": [
        "import numpy as np\n",
        "import tensorflow as tf\n",
        "from tensorflow.keras.datasets import mnist\n",
        "from tensorflow.keras.models import Sequential\n",
        "from tensorflow.keras.layers import Dense\n",
        "from tensorflow.keras.utils import to_categorical\n"
      ]
    },
    {
      "cell_type": "code",
      "source": [
        "# Load MNIST dataset\n",
        "(x_train, y_train), (x_test, y_test) = mnist.load_data()\n",
        "\n",
        "# Normalize pixel values to be between 0 and 1\n",
        "x_train = x_train.astype('float32') / 255.0\n",
        "x_test = x_test.astype('float32') / 255.0\n",
        "\n",
        "# Flatten the input images\n",
        "x_train_flat = x_train.reshape((-1, 28*28))\n",
        "x_test_flat = x_test.reshape((-1, 28*28))\n",
        "\n",
        "# Convert class vectors to binary class matrices (one-hot encoding)\n",
        "y_train = to_categorical(y_train, 10)\n",
        "y_test = to_categorical(y_test, 10)"
      ],
      "metadata": {
        "colab": {
          "base_uri": "https://localhost:8080/"
        },
        "id": "WKKTl2GymIJg",
        "outputId": "c287e63a-a8c7-4a01-c26f-dde16b81d301"
      },
      "execution_count": 2,
      "outputs": [
        {
          "output_type": "stream",
          "name": "stdout",
          "text": [
            "Downloading data from https://storage.googleapis.com/tensorflow/tf-keras-datasets/mnist.npz\n",
            "11490434/11490434 [==============================] - 0s 0us/step\n"
          ]
        }
      ]
    },
    {
      "cell_type": "code",
      "source": [
        " # Model definition (Logistic Regression)\n",
        "model = Sequential()\n",
        "model.add(Dense(10, activation='softmax', input_shape=(28*28,)))  # Output layer with softmax activation for multi-class classification\n"
      ],
      "metadata": {
        "id": "ZgkIog1GmN5n"
      },
      "execution_count": 3,
      "outputs": []
    },
    {
      "cell_type": "code",
      "source": [
        "model.compile(loss='categorical_crossentropy', optimizer='adam', metrics=['accuracy'])"
      ],
      "metadata": {
        "id": "E4MTWMb2mSBu"
      },
      "execution_count": 4,
      "outputs": []
    },
    {
      "cell_type": "code",
      "source": [
        "model.summary()\n"
      ],
      "metadata": {
        "colab": {
          "base_uri": "https://localhost:8080/"
        },
        "id": "Zx14yd2XmUcY",
        "outputId": "1f6f4864-f8b7-4231-e2ef-76761804374f"
      },
      "execution_count": 5,
      "outputs": [
        {
          "output_type": "stream",
          "name": "stdout",
          "text": [
            "Model: \"sequential\"\n",
            "_________________________________________________________________\n",
            " Layer (type)                Output Shape              Param #   \n",
            "=================================================================\n",
            " dense (Dense)               (None, 10)                7850      \n",
            "                                                                 \n",
            "=================================================================\n",
            "Total params: 7850 (30.66 KB)\n",
            "Trainable params: 7850 (30.66 KB)\n",
            "Non-trainable params: 0 (0.00 Byte)\n",
            "_________________________________________________________________\n"
          ]
        }
      ]
    },
    {
      "cell_type": "code",
      "source": [
        "history = model.fit(x_train_flat, y_train, batch_size=64, epochs=30, verbose=1, validation_data=(x_test_flat, y_test))"
      ],
      "metadata": {
        "colab": {
          "base_uri": "https://localhost:8080/"
        },
        "id": "XisbMfyHmXvQ",
        "outputId": "e782860b-d95f-4212-f168-55e07dc7a480"
      },
      "execution_count": 6,
      "outputs": [
        {
          "output_type": "stream",
          "name": "stdout",
          "text": [
            "Epoch 1/30\n",
            "938/938 [==============================] - 3s 3ms/step - loss: 0.5540 - accuracy: 0.8603 - val_loss: 0.3340 - val_accuracy: 0.9101\n",
            "Epoch 2/30\n",
            "938/938 [==============================] - 4s 4ms/step - loss: 0.3242 - accuracy: 0.9105 - val_loss: 0.2963 - val_accuracy: 0.9172\n",
            "Epoch 3/30\n",
            "938/938 [==============================] - 3s 3ms/step - loss: 0.2958 - accuracy: 0.9174 - val_loss: 0.2826 - val_accuracy: 0.9201\n",
            "Epoch 4/30\n",
            "938/938 [==============================] - 2s 2ms/step - loss: 0.2824 - accuracy: 0.9217 - val_loss: 0.2827 - val_accuracy: 0.9201\n",
            "Epoch 5/30\n",
            "938/938 [==============================] - 2s 2ms/step - loss: 0.2740 - accuracy: 0.9234 - val_loss: 0.2766 - val_accuracy: 0.9224\n",
            "Epoch 6/30\n",
            "938/938 [==============================] - 2s 2ms/step - loss: 0.2685 - accuracy: 0.9255 - val_loss: 0.2698 - val_accuracy: 0.9250\n",
            "Epoch 7/30\n",
            "938/938 [==============================] - 4s 4ms/step - loss: 0.2638 - accuracy: 0.9268 - val_loss: 0.2679 - val_accuracy: 0.9248\n",
            "Epoch 8/30\n",
            "938/938 [==============================] - 2s 2ms/step - loss: 0.2605 - accuracy: 0.9270 - val_loss: 0.2642 - val_accuracy: 0.9269\n",
            "Epoch 9/30\n",
            "938/938 [==============================] - 2s 2ms/step - loss: 0.2574 - accuracy: 0.9287 - val_loss: 0.2638 - val_accuracy: 0.9266\n",
            "Epoch 10/30\n",
            "938/938 [==============================] - 2s 2ms/step - loss: 0.2554 - accuracy: 0.9290 - val_loss: 0.2638 - val_accuracy: 0.9275\n",
            "Epoch 11/30\n",
            "938/938 [==============================] - 2s 2ms/step - loss: 0.2528 - accuracy: 0.9303 - val_loss: 0.2630 - val_accuracy: 0.9271\n",
            "Epoch 12/30\n",
            "938/938 [==============================] - 3s 3ms/step - loss: 0.2513 - accuracy: 0.9309 - val_loss: 0.2645 - val_accuracy: 0.9273\n",
            "Epoch 13/30\n",
            "938/938 [==============================] - 3s 3ms/step - loss: 0.2492 - accuracy: 0.9309 - val_loss: 0.2647 - val_accuracy: 0.9268\n",
            "Epoch 14/30\n",
            "938/938 [==============================] - 2s 2ms/step - loss: 0.2482 - accuracy: 0.9312 - val_loss: 0.2624 - val_accuracy: 0.9277\n",
            "Epoch 15/30\n",
            "938/938 [==============================] - 2s 2ms/step - loss: 0.2466 - accuracy: 0.9326 - val_loss: 0.2651 - val_accuracy: 0.9266\n",
            "Epoch 16/30\n",
            "938/938 [==============================] - 2s 2ms/step - loss: 0.2455 - accuracy: 0.9320 - val_loss: 0.2674 - val_accuracy: 0.9256\n",
            "Epoch 17/30\n",
            "938/938 [==============================] - 2s 2ms/step - loss: 0.2444 - accuracy: 0.9323 - val_loss: 0.2634 - val_accuracy: 0.9274\n",
            "Epoch 18/30\n",
            "938/938 [==============================] - 3s 4ms/step - loss: 0.2438 - accuracy: 0.9327 - val_loss: 0.2645 - val_accuracy: 0.9267\n",
            "Epoch 19/30\n",
            "938/938 [==============================] - 2s 2ms/step - loss: 0.2423 - accuracy: 0.9338 - val_loss: 0.2634 - val_accuracy: 0.9282\n",
            "Epoch 20/30\n",
            "938/938 [==============================] - 2s 2ms/step - loss: 0.2423 - accuracy: 0.9328 - val_loss: 0.2652 - val_accuracy: 0.9270\n",
            "Epoch 21/30\n",
            "938/938 [==============================] - 2s 2ms/step - loss: 0.2409 - accuracy: 0.9330 - val_loss: 0.2656 - val_accuracy: 0.9276\n",
            "Epoch 22/30\n",
            "938/938 [==============================] - 2s 2ms/step - loss: 0.2404 - accuracy: 0.9336 - val_loss: 0.2632 - val_accuracy: 0.9276\n",
            "Epoch 23/30\n",
            "938/938 [==============================] - 3s 3ms/step - loss: 0.2396 - accuracy: 0.9339 - val_loss: 0.2681 - val_accuracy: 0.9271\n",
            "Epoch 24/30\n",
            "938/938 [==============================] - 3s 3ms/step - loss: 0.2391 - accuracy: 0.9343 - val_loss: 0.2672 - val_accuracy: 0.9258\n",
            "Epoch 25/30\n",
            "938/938 [==============================] - 2s 2ms/step - loss: 0.2385 - accuracy: 0.9348 - val_loss: 0.2641 - val_accuracy: 0.9286\n",
            "Epoch 26/30\n",
            "938/938 [==============================] - 2s 2ms/step - loss: 0.2374 - accuracy: 0.9346 - val_loss: 0.2640 - val_accuracy: 0.9277\n",
            "Epoch 27/30\n",
            "938/938 [==============================] - 2s 2ms/step - loss: 0.2371 - accuracy: 0.9352 - val_loss: 0.2661 - val_accuracy: 0.9277\n",
            "Epoch 28/30\n",
            "938/938 [==============================] - 2s 2ms/step - loss: 0.2370 - accuracy: 0.9345 - val_loss: 0.2673 - val_accuracy: 0.9268\n",
            "Epoch 29/30\n",
            "938/938 [==============================] - 3s 4ms/step - loss: 0.2363 - accuracy: 0.9351 - val_loss: 0.2670 - val_accuracy: 0.9285\n",
            "Epoch 30/30\n",
            "938/938 [==============================] - 2s 2ms/step - loss: 0.2356 - accuracy: 0.9350 - val_loss: 0.2666 - val_accuracy: 0.9280\n"
          ]
        }
      ]
    },
    {
      "cell_type": "code",
      "source": [
        "score = model.evaluate(x_test_flat, y_test, verbose=0)\n",
        "print(\"Test loss:\", score[0])\n",
        "print(\"Test accuracy:\", score[1])"
      ],
      "metadata": {
        "colab": {
          "base_uri": "https://localhost:8080/"
        },
        "id": "NFvtaqqwmtcX",
        "outputId": "0c87d6fa-d12c-4386-c4f0-a276c8ca92ef"
      },
      "execution_count": 7,
      "outputs": [
        {
          "output_type": "stream",
          "name": "stdout",
          "text": [
            "Test loss: 0.2666212022304535\n",
            "Test accuracy: 0.9279999732971191\n"
          ]
        }
      ]
    }
  ]
}
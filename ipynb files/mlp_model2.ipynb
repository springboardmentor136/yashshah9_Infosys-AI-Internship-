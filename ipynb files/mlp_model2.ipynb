{
  "nbformat": 4,
  "nbformat_minor": 0,
  "metadata": {
    "colab": {
      "provenance": []
    },
    "kernelspec": {
      "name": "python3",
      "display_name": "Python 3"
    },
    "language_info": {
      "name": "python"
    }
  },
  "cells": [
    {
      "cell_type": "code",
      "execution_count": 1,
      "metadata": {
        "id": "-ksFDLuSm734"
      },
      "outputs": [],
      "source": [
        "import numpy as np\n",
        "import tensorflow as tf\n",
        "from tensorflow.keras.datasets import mnist\n",
        "from tensorflow.keras.models import Sequential\n",
        "from tensorflow.keras.layers import Dense, Flatten\n",
        "from tensorflow.keras.utils import to_categorical"
      ]
    },
    {
      "cell_type": "code",
      "source": [
        "# Load MNIST dataset\n",
        "(x_train, y_train), (x_test, y_test) = mnist.load_data()\n",
        "\n",
        "# Normalize pixel values to be between 0 and 1\n",
        "x_train = x_train.astype('float32') / 255.0\n",
        "x_test = x_test.astype('float32') / 255.0\n",
        "\n",
        "# Flatten the input images\n",
        "x_train_flat = x_train.reshape((-1, 28*28))\n",
        "x_test_flat = x_test.reshape((-1, 28*28))\n",
        "\n",
        "# Convert class vectors to binary class matrices (one-hot encoding)\n",
        "y_train = to_categorical(y_train, 10)\n",
        "y_test = to_categorical(y_test, 10)\n"
      ],
      "metadata": {
        "colab": {
          "base_uri": "https://localhost:8080/"
        },
        "id": "cXaTjvBjnB1N",
        "outputId": "a7d75868-2a93-4a26-b17e-5684da9d0715"
      },
      "execution_count": 2,
      "outputs": [
        {
          "output_type": "stream",
          "name": "stdout",
          "text": [
            "Downloading data from https://storage.googleapis.com/tensorflow/tf-keras-datasets/mnist.npz\n",
            "11490434/11490434 [==============================] - 1s 0us/step\n"
          ]
        }
      ]
    },
    {
      "cell_type": "code",
      "source": [
        "# Model definition (Multilayer Perceptron)\n",
        "model = Sequential()\n",
        "model.add(Flatten(input_shape=(28*28,)))  # Adjust the input_shape to match the flattened input\n",
        "model.add(Dense(128, activation='relu'))  # First hidden layer with 128 units and ReLU activation\n",
        "model.add(Dense(64, activation='relu'))   # Second hidden layer with 64 units and ReLU activation\n",
        "model.add(Dense(10, activation='softmax'))  # Output layer with softmax activation for multi-class classification"
      ],
      "metadata": {
        "id": "Z9vdXm53nMNR"
      },
      "execution_count": 3,
      "outputs": []
    },
    {
      "cell_type": "code",
      "source": [
        "# Compile model\n",
        "model.compile(loss='categorical_crossentropy', optimizer='adam', metrics=['accuracy'])\n",
        "\n",
        "# Print model summary\n",
        "model.summary()\n"
      ],
      "metadata": {
        "colab": {
          "base_uri": "https://localhost:8080/"
        },
        "id": "9E5-5DNqnPd6",
        "outputId": "11915483-6175-4eb5-bde1-47bda7a45943"
      },
      "execution_count": 4,
      "outputs": [
        {
          "output_type": "stream",
          "name": "stdout",
          "text": [
            "Model: \"sequential\"\n",
            "_________________________________________________________________\n",
            " Layer (type)                Output Shape              Param #   \n",
            "=================================================================\n",
            " flatten (Flatten)           (None, 784)               0         \n",
            "                                                                 \n",
            " dense (Dense)               (None, 128)               100480    \n",
            "                                                                 \n",
            " dense_1 (Dense)             (None, 64)                8256      \n",
            "                                                                 \n",
            " dense_2 (Dense)             (None, 10)                650       \n",
            "                                                                 \n",
            "=================================================================\n",
            "Total params: 109386 (427.29 KB)\n",
            "Trainable params: 109386 (427.29 KB)\n",
            "Non-trainable params: 0 (0.00 Byte)\n",
            "_________________________________________________________________\n"
          ]
        }
      ]
    },
    {
      "cell_type": "code",
      "source": [
        "history = model.fit(x_train_flat, y_train, batch_size=64, epochs=30, verbose=1, validation_data=(x_test_flat, y_test))\n"
      ],
      "metadata": {
        "colab": {
          "base_uri": "https://localhost:8080/"
        },
        "id": "j0HyQHcEnSxa",
        "outputId": "0c179058-b5f0-48fc-fd00-96197c935d7b"
      },
      "execution_count": 5,
      "outputs": [
        {
          "output_type": "stream",
          "name": "stdout",
          "text": [
            "Epoch 1/30\n",
            "938/938 [==============================] - 6s 5ms/step - loss: 0.2742 - accuracy: 0.9205 - val_loss: 0.1288 - val_accuracy: 0.9606\n",
            "Epoch 2/30\n",
            "938/938 [==============================] - 4s 5ms/step - loss: 0.1139 - accuracy: 0.9656 - val_loss: 0.0952 - val_accuracy: 0.9691\n",
            "Epoch 3/30\n",
            "938/938 [==============================] - 6s 6ms/step - loss: 0.0779 - accuracy: 0.9763 - val_loss: 0.0813 - val_accuracy: 0.9737\n",
            "Epoch 4/30\n",
            "938/938 [==============================] - 4s 5ms/step - loss: 0.0592 - accuracy: 0.9818 - val_loss: 0.0811 - val_accuracy: 0.9754\n",
            "Epoch 5/30\n",
            "938/938 [==============================] - 4s 5ms/step - loss: 0.0453 - accuracy: 0.9857 - val_loss: 0.0836 - val_accuracy: 0.9743\n",
            "Epoch 6/30\n",
            "938/938 [==============================] - 6s 6ms/step - loss: 0.0367 - accuracy: 0.9881 - val_loss: 0.0782 - val_accuracy: 0.9764\n",
            "Epoch 7/30\n",
            "938/938 [==============================] - 4s 5ms/step - loss: 0.0290 - accuracy: 0.9907 - val_loss: 0.0822 - val_accuracy: 0.9753\n",
            "Epoch 8/30\n",
            "938/938 [==============================] - 5s 5ms/step - loss: 0.0239 - accuracy: 0.9925 - val_loss: 0.0981 - val_accuracy: 0.9721\n",
            "Epoch 9/30\n",
            "938/938 [==============================] - 5s 5ms/step - loss: 0.0218 - accuracy: 0.9923 - val_loss: 0.0902 - val_accuracy: 0.9769\n",
            "Epoch 10/30\n",
            "938/938 [==============================] - 4s 4ms/step - loss: 0.0181 - accuracy: 0.9938 - val_loss: 0.1045 - val_accuracy: 0.9744\n",
            "Epoch 11/30\n",
            "938/938 [==============================] - 5s 6ms/step - loss: 0.0174 - accuracy: 0.9937 - val_loss: 0.0985 - val_accuracy: 0.9764\n",
            "Epoch 12/30\n",
            "938/938 [==============================] - 6s 6ms/step - loss: 0.0163 - accuracy: 0.9945 - val_loss: 0.1256 - val_accuracy: 0.9689\n",
            "Epoch 13/30\n",
            "938/938 [==============================] - 4s 5ms/step - loss: 0.0145 - accuracy: 0.9951 - val_loss: 0.0872 - val_accuracy: 0.9791\n",
            "Epoch 14/30\n",
            "938/938 [==============================] - 6s 6ms/step - loss: 0.0113 - accuracy: 0.9962 - val_loss: 0.0945 - val_accuracy: 0.9781\n",
            "Epoch 15/30\n",
            "938/938 [==============================] - 4s 4ms/step - loss: 0.0106 - accuracy: 0.9964 - val_loss: 0.1071 - val_accuracy: 0.9752\n",
            "Epoch 16/30\n",
            "938/938 [==============================] - 5s 6ms/step - loss: 0.0109 - accuracy: 0.9966 - val_loss: 0.0940 - val_accuracy: 0.9792\n",
            "Epoch 17/30\n",
            "938/938 [==============================] - 5s 5ms/step - loss: 0.0112 - accuracy: 0.9962 - val_loss: 0.0954 - val_accuracy: 0.9786\n",
            "Epoch 18/30\n",
            "938/938 [==============================] - 4s 4ms/step - loss: 0.0093 - accuracy: 0.9968 - val_loss: 0.1045 - val_accuracy: 0.9781\n",
            "Epoch 19/30\n",
            "938/938 [==============================] - 6s 6ms/step - loss: 0.0105 - accuracy: 0.9965 - val_loss: 0.1060 - val_accuracy: 0.9792\n",
            "Epoch 20/30\n",
            "938/938 [==============================] - 4s 4ms/step - loss: 0.0076 - accuracy: 0.9976 - val_loss: 0.1027 - val_accuracy: 0.9792\n",
            "Epoch 21/30\n",
            "938/938 [==============================] - 4s 5ms/step - loss: 0.0069 - accuracy: 0.9978 - val_loss: 0.0980 - val_accuracy: 0.9780\n",
            "Epoch 22/30\n",
            "938/938 [==============================] - 6s 6ms/step - loss: 0.0108 - accuracy: 0.9962 - val_loss: 0.1232 - val_accuracy: 0.9758\n",
            "Epoch 23/30\n",
            "938/938 [==============================] - 4s 4ms/step - loss: 0.0058 - accuracy: 0.9981 - val_loss: 0.1076 - val_accuracy: 0.9786\n",
            "Epoch 24/30\n",
            "938/938 [==============================] - 4s 4ms/step - loss: 0.0076 - accuracy: 0.9977 - val_loss: 0.1073 - val_accuracy: 0.9783\n",
            "Epoch 25/30\n",
            "938/938 [==============================] - 6s 6ms/step - loss: 0.0076 - accuracy: 0.9975 - val_loss: 0.1109 - val_accuracy: 0.9791\n",
            "Epoch 26/30\n",
            "938/938 [==============================] - 4s 4ms/step - loss: 0.0070 - accuracy: 0.9977 - val_loss: 0.1145 - val_accuracy: 0.9800\n",
            "Epoch 27/30\n",
            "938/938 [==============================] - 4s 4ms/step - loss: 0.0081 - accuracy: 0.9974 - val_loss: 0.1525 - val_accuracy: 0.9745\n",
            "Epoch 28/30\n",
            "938/938 [==============================] - 6s 6ms/step - loss: 0.0078 - accuracy: 0.9972 - val_loss: 0.1266 - val_accuracy: 0.9787\n",
            "Epoch 29/30\n",
            "938/938 [==============================] - 4s 5ms/step - loss: 0.0066 - accuracy: 0.9980 - val_loss: 0.1270 - val_accuracy: 0.9777\n",
            "Epoch 30/30\n",
            "938/938 [==============================] - 4s 5ms/step - loss: 0.0057 - accuracy: 0.9980 - val_loss: 0.1499 - val_accuracy: 0.9767\n"
          ]
        }
      ]
    },
    {
      "cell_type": "code",
      "source": [
        "# Evaluate model\n",
        "score = model.evaluate(x_test_flat, y_test, verbose=0)\n",
        "print(\"Test loss:\", score[0])\n",
        "print(\"Test accuracy:\", score[1])"
      ],
      "metadata": {
        "colab": {
          "base_uri": "https://localhost:8080/"
        },
        "id": "lz-XZT0Tn7Fw",
        "outputId": "16d8d69e-e223-40d3-9282-9011b1e2030b"
      },
      "execution_count": 6,
      "outputs": [
        {
          "output_type": "stream",
          "name": "stdout",
          "text": [
            "Test loss: 0.14988738298416138\n",
            "Test accuracy: 0.9767000079154968\n"
          ]
        }
      ]
    }
  ]
}
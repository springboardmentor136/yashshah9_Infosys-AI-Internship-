{
  "nbformat": 4,
  "nbformat_minor": 0,
  "metadata": {
    "colab": {
      "provenance": []
    },
    "kernelspec": {
      "name": "python3",
      "display_name": "Python 3"
    },
    "language_info": {
      "name": "python"
    }
  },
  "cells": [
    {
      "cell_type": "code",
      "execution_count": 1,
      "metadata": {
        "id": "r7RI2A6aodZ_"
      },
      "outputs": [],
      "source": [
        "import numpy as np\n",
        "import matplotlib.pyplot as plt\n",
        "import tensorflow as tf\n",
        "import shutil\n"
      ]
    },
    {
      "cell_type": "code",
      "source": [
        "from tensorflow.keras.utils import to_categorical\n",
        "from tensorflow.keras.datasets import mnist\n",
        "from tensorflow.keras.models import Sequential\n",
        "from tensorflow.keras.layers import Dense, Dropout, Conv2D, AveragePooling2D, Flatten"
      ],
      "metadata": {
        "id": "7APc_oE-oglT"
      },
      "execution_count": 2,
      "outputs": []
    },
    {
      "cell_type": "code",
      "source": [
        "# Load MNIST dataset\n",
        "(x_train, y_train), (x_test, y_test) = mnist.load_data()\n",
        "\n",
        "# Normalize pixel values to be between 0 and 1\n",
        "x_train = x_train.astype('float32') / 255.0\n",
        "x_test = x_test.astype('float32') / 255.0\n",
        "\n",
        "# Reshape data to fit LeNet-5 architecture (input shape: 32x32)\n",
        "x_train = np.expand_dims(x_train, axis=-1)\n",
        "x_test = np.expand_dims(x_test, axis=-1)\n",
        "\n",
        "# Convert class vectors to binary class matrices (one-hot encoding)\n",
        "y_train = to_categorical(y_train, 10)\n",
        "y_test = to_categorical(y_test, 10)\n"
      ],
      "metadata": {
        "colab": {
          "base_uri": "https://localhost:8080/"
        },
        "id": "B4FG-bAzok3J",
        "outputId": "c562cde5-687f-4e5c-f184-d54fcb162063"
      },
      "execution_count": 3,
      "outputs": [
        {
          "output_type": "stream",
          "name": "stdout",
          "text": [
            "Downloading data from https://storage.googleapis.com/tensorflow/tf-keras-datasets/mnist.npz\n",
            "11490434/11490434 [==============================] - 0s 0us/step\n"
          ]
        }
      ]
    },
    {
      "cell_type": "code",
      "source": [
        "# Model definition (LeNet-5 architecture)\n",
        "model = Sequential()\n",
        "model.add(Conv2D(6, kernel_size=(5, 5), strides=(1, 1), activation='relu', input_shape=(28, 28, 1)))\n",
        "model.add(AveragePooling2D(pool_size=(2, 2), strides=(2, 2)))\n",
        "model.add(Conv2D(16, kernel_size=(5, 5), strides=(1, 1), activation='relu'))\n",
        "model.add(AveragePooling2D(pool_size=(2, 2), strides=(2, 2)))\n",
        "model.add(Flatten())\n",
        "model.add(Dense(120, activation='relu'))\n",
        "model.add(Dense(84, activation='relu'))\n",
        "model.add(Dense(10, activation='softmax'))"
      ],
      "metadata": {
        "id": "0rW0h5QAop9C"
      },
      "execution_count": 4,
      "outputs": []
    },
    {
      "cell_type": "code",
      "source": [
        "model.compile(loss='categorical_crossentropy', optimizer='adam', metrics=['accuracy'])\n",
        "\n",
        "# Print model summary\n",
        "model.summary()\n"
      ],
      "metadata": {
        "colab": {
          "base_uri": "https://localhost:8080/"
        },
        "id": "8DlHQLmDouSQ",
        "outputId": "187c2f1e-2fb6-4e79-bb56-c14801b87586"
      },
      "execution_count": 5,
      "outputs": [
        {
          "output_type": "stream",
          "name": "stdout",
          "text": [
            "Model: \"sequential\"\n",
            "_________________________________________________________________\n",
            " Layer (type)                Output Shape              Param #   \n",
            "=================================================================\n",
            " conv2d (Conv2D)             (None, 24, 24, 6)         156       \n",
            "                                                                 \n",
            " average_pooling2d (Average  (None, 12, 12, 6)         0         \n",
            " Pooling2D)                                                      \n",
            "                                                                 \n",
            " conv2d_1 (Conv2D)           (None, 8, 8, 16)          2416      \n",
            "                                                                 \n",
            " average_pooling2d_1 (Avera  (None, 4, 4, 16)          0         \n",
            " gePooling2D)                                                    \n",
            "                                                                 \n",
            " flatten (Flatten)           (None, 256)               0         \n",
            "                                                                 \n",
            " dense (Dense)               (None, 120)               30840     \n",
            "                                                                 \n",
            " dense_1 (Dense)             (None, 84)                10164     \n",
            "                                                                 \n",
            " dense_2 (Dense)             (None, 10)                850       \n",
            "                                                                 \n",
            "=================================================================\n",
            "Total params: 44426 (173.54 KB)\n",
            "Trainable params: 44426 (173.54 KB)\n",
            "Non-trainable params: 0 (0.00 Byte)\n",
            "_________________________________________________________________\n"
          ]
        }
      ]
    },
    {
      "cell_type": "code",
      "source": [
        "history = model.fit(x_train, y_train, batch_size=64, epochs=30, verbose=1, validation_data=(x_test, y_test))"
      ],
      "metadata": {
        "colab": {
          "base_uri": "https://localhost:8080/"
        },
        "id": "Gw7cRygBoxTa",
        "outputId": "4354b2d5-7eb8-4bec-fe97-f439e8eb0898"
      },
      "execution_count": 6,
      "outputs": [
        {
          "output_type": "stream",
          "name": "stdout",
          "text": [
            "Epoch 1/30\n",
            "938/938 [==============================] - 26s 27ms/step - loss: 0.2800 - accuracy: 0.9152 - val_loss: 0.1086 - val_accuracy: 0.9665\n",
            "Epoch 2/30\n",
            "938/938 [==============================] - 25s 27ms/step - loss: 0.0904 - accuracy: 0.9724 - val_loss: 0.0614 - val_accuracy: 0.9819\n",
            "Epoch 3/30\n",
            "938/938 [==============================] - 28s 30ms/step - loss: 0.0646 - accuracy: 0.9794 - val_loss: 0.0482 - val_accuracy: 0.9865\n",
            "Epoch 4/30\n",
            "938/938 [==============================] - 26s 28ms/step - loss: 0.0500 - accuracy: 0.9846 - val_loss: 0.0476 - val_accuracy: 0.9854\n",
            "Epoch 5/30\n",
            "938/938 [==============================] - 26s 27ms/step - loss: 0.0412 - accuracy: 0.9870 - val_loss: 0.0494 - val_accuracy: 0.9841\n",
            "Epoch 6/30\n",
            "938/938 [==============================] - 26s 28ms/step - loss: 0.0347 - accuracy: 0.9891 - val_loss: 0.0464 - val_accuracy: 0.9864\n",
            "Epoch 7/30\n",
            "938/938 [==============================] - 25s 27ms/step - loss: 0.0306 - accuracy: 0.9902 - val_loss: 0.0387 - val_accuracy: 0.9882\n",
            "Epoch 8/30\n",
            "938/938 [==============================] - 26s 28ms/step - loss: 0.0262 - accuracy: 0.9913 - val_loss: 0.0381 - val_accuracy: 0.9885\n",
            "Epoch 9/30\n",
            "938/938 [==============================] - 25s 26ms/step - loss: 0.0223 - accuracy: 0.9930 - val_loss: 0.0384 - val_accuracy: 0.9888\n",
            "Epoch 10/30\n",
            "938/938 [==============================] - 24s 26ms/step - loss: 0.0203 - accuracy: 0.9934 - val_loss: 0.0362 - val_accuracy: 0.9900\n",
            "Epoch 11/30\n",
            "938/938 [==============================] - 24s 26ms/step - loss: 0.0180 - accuracy: 0.9941 - val_loss: 0.0411 - val_accuracy: 0.9885\n",
            "Epoch 12/30\n",
            "938/938 [==============================] - 25s 26ms/step - loss: 0.0156 - accuracy: 0.9947 - val_loss: 0.0435 - val_accuracy: 0.9882\n",
            "Epoch 13/30\n",
            "938/938 [==============================] - 23s 24ms/step - loss: 0.0140 - accuracy: 0.9952 - val_loss: 0.0410 - val_accuracy: 0.9893\n",
            "Epoch 14/30\n",
            "938/938 [==============================] - 25s 27ms/step - loss: 0.0120 - accuracy: 0.9960 - val_loss: 0.0460 - val_accuracy: 0.9867\n",
            "Epoch 15/30\n",
            "938/938 [==============================] - 25s 26ms/step - loss: 0.0130 - accuracy: 0.9956 - val_loss: 0.0404 - val_accuracy: 0.9886\n",
            "Epoch 16/30\n",
            "938/938 [==============================] - 24s 26ms/step - loss: 0.0115 - accuracy: 0.9962 - val_loss: 0.0461 - val_accuracy: 0.9891\n",
            "Epoch 17/30\n",
            "938/938 [==============================] - 23s 25ms/step - loss: 0.0107 - accuracy: 0.9964 - val_loss: 0.0439 - val_accuracy: 0.9887\n",
            "Epoch 18/30\n",
            "938/938 [==============================] - 22s 24ms/step - loss: 0.0091 - accuracy: 0.9968 - val_loss: 0.0393 - val_accuracy: 0.9897\n",
            "Epoch 19/30\n",
            "938/938 [==============================] - 23s 25ms/step - loss: 0.0079 - accuracy: 0.9974 - val_loss: 0.0387 - val_accuracy: 0.9894\n",
            "Epoch 20/30\n",
            "938/938 [==============================] - 25s 27ms/step - loss: 0.0097 - accuracy: 0.9967 - val_loss: 0.0410 - val_accuracy: 0.9896\n",
            "Epoch 21/30\n",
            "938/938 [==============================] - 23s 24ms/step - loss: 0.0066 - accuracy: 0.9979 - val_loss: 0.0360 - val_accuracy: 0.9917\n",
            "Epoch 22/30\n",
            "938/938 [==============================] - 22s 23ms/step - loss: 0.0079 - accuracy: 0.9970 - val_loss: 0.0412 - val_accuracy: 0.9905\n",
            "Epoch 23/30\n",
            "938/938 [==============================] - 23s 25ms/step - loss: 0.0066 - accuracy: 0.9980 - val_loss: 0.0429 - val_accuracy: 0.9900\n",
            "Epoch 24/30\n",
            "938/938 [==============================] - 24s 25ms/step - loss: 0.0071 - accuracy: 0.9976 - val_loss: 0.0533 - val_accuracy: 0.9879\n",
            "Epoch 25/30\n",
            "938/938 [==============================] - 23s 25ms/step - loss: 0.0070 - accuracy: 0.9976 - val_loss: 0.0406 - val_accuracy: 0.9908\n",
            "Epoch 26/30\n",
            "938/938 [==============================] - 22s 23ms/step - loss: 0.0051 - accuracy: 0.9985 - val_loss: 0.0613 - val_accuracy: 0.9860\n",
            "Epoch 27/30\n",
            "938/938 [==============================] - 25s 26ms/step - loss: 0.0050 - accuracy: 0.9985 - val_loss: 0.0463 - val_accuracy: 0.9899\n",
            "Epoch 28/30\n",
            "938/938 [==============================] - 23s 25ms/step - loss: 0.0068 - accuracy: 0.9979 - val_loss: 0.0481 - val_accuracy: 0.9902\n",
            "Epoch 29/30\n",
            "938/938 [==============================] - 22s 23ms/step - loss: 0.0034 - accuracy: 0.9989 - val_loss: 0.0432 - val_accuracy: 0.9906\n",
            "Epoch 30/30\n",
            "938/938 [==============================] - 23s 25ms/step - loss: 0.0062 - accuracy: 0.9978 - val_loss: 0.0512 - val_accuracy: 0.9893\n"
          ]
        }
      ]
    },
    {
      "cell_type": "code",
      "source": [
        "score = model.evaluate(x_test, y_test, verbose=0)\n",
        "print(\"Test loss:\", score[0])\n",
        "print(\"Test accuracy:\", score[1])"
      ],
      "metadata": {
        "colab": {
          "base_uri": "https://localhost:8080/"
        },
        "id": "Lw43yEAyrz1Q",
        "outputId": "8072f07e-3eeb-4dbc-ba3f-26de0e15c254"
      },
      "execution_count": 7,
      "outputs": [
        {
          "output_type": "stream",
          "name": "stdout",
          "text": [
            "Test loss: 0.05117788165807724\n",
            "Test accuracy: 0.989300012588501\n"
          ]
        }
      ]
    }
  ]
}
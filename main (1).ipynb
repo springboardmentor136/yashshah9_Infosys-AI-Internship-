{
  "nbformat": 4,
  "nbformat_minor": 0,
  "metadata": {
    "colab": {
      "provenance": []
    },
    "kernelspec": {
      "name": "python3",
      "display_name": "Python 3"
    },
    "language_info": {
      "name": "python"
    }
  },
  "cells": [
    {
      "cell_type": "code",
      "execution_count": 1,
      "metadata": {
        "id": "vkFNnZeBdQnw"
      },
      "outputs": [],
      "source": [
        "import tensorflow as tf\n",
        "from tensorflow.keras import layers, models\n",
        "from tensorflow.keras.datasets import mnist\n",
        "import numpy as np\n",
        "import matplotlib.pyplot as plt"
      ]
    },
    {
      "cell_type": "code",
      "source": [
        "(x_train_full, y_train_full), (x_test, y_test) = mnist.load_data() #LoadingMnist\n",
        "\n",
        "# The MNIST dataset is a benchmark dataset in machine learning and computer vision.\n",
        "# It consists of 70,000 grayscale images of handwritten digits (0-9), each of size 28x28 pixels.\n",
        "\n",
        "# Data endpoints:\n",
        "# x_train_full: Array of training images. Shape: (60000, 28, 28)\n",
        "# y_train_full: Array of training labels. Shape: (60000,)\n",
        "# x_test: Array of test images. Shape: (10000, 28, 28)\n",
        "# y_test: Array of test labels. Shape: (10000,)\n",
        "\n",
        "# The dataset is split into two parts:\n",
        "# 1. Training set (x_train_full, y_train_full): Contains 60,000 images and their corresponding labels.\n",
        "# 2. Test set (x_test, y_test): Contains 10,000 images and their corresponding labels.\n",
        "\n",
        "# Optimization:\n",
        "# - The MNIST dataset is well-optimized for initial training and evaluation of machine learning models.\n",
        "# - It is small enough to be loaded into memory and processed on most modern hardware.\n",
        "# - The dataset is pre-shuffled, ensuring that training and testing sets are representative and unbiased.\n",
        "\n",
        "# Usefulness:\n",
        "# - The MNIST dataset serves as an excellent introductory dataset for image classification tasks.\n",
        "# - Due to its simplicity and well-structured nature, it is often used for benchmarking algorithms.\n",
        "# - It is a common starting point for learning and experimenting with neural networks and deep learning.\n",
        "# - The dataset's consistency and simplicity make it ideal for quick prototyping and testing of new ideas and algorithms.\n",
        "# - While it is relatively simple for modern models, MNIST helps in understanding the basics of data preprocessing, model building, and evaluation in machine learning.\n",
        "\n",
        "# Note: As the MNIST dataset is somewhat outdated for state-of-the-art deep learning models, more complex datasets like CIFAR-10, CIFAR-100, or ImageNet are used for advanced research and development.\n",
        "\n",
        "\n",
        "\n",
        "x_train_full = x_train_full.astype('float32') / 255.0  #normalizing the data\n",
        "x_test = x_test.astype('float32') / 255.0\n",
        "x_train, x_valid = x_train_full[:50000], x_train_full[50000:] # Spilting the full training sets into testing and validation\n",
        "y_train, y_valid = y_train_full[:50000], y_train_full[50000:]\n",
        "x_train = x_train.reshape(-1, 28, 28, 1) #reshaping the data\n",
        "x_valid = x_valid.reshape(-1, 28, 28, 1)\n",
        "x_test = x_test.reshape(-1, 28, 28, 1)\n",
        "y_train = tf.keras.utils.to_categorical(y_train, 10)#one-hot encoding\n",
        "y_valid = tf.keras.utils.to_categorical(y_valid, 10)\n",
        "y_test = tf.keras.utils.to_categorical(y_test, 10)\n"
      ],
      "metadata": {
        "colab": {
          "base_uri": "https://localhost:8080/"
        },
        "id": "6xDHKhjsgV0m",
        "outputId": "3b60e761-1c66-4370-9b92-edfae340090d"
      },
      "execution_count": 2,
      "outputs": [
        {
          "output_type": "stream",
          "name": "stdout",
          "text": [
            "Downloading data from https://storage.googleapis.com/tensorflow/tf-keras-datasets/mnist.npz\n",
            "11490434/11490434 [==============================] - 0s 0us/step\n"
          ]
        }
      ]
    },
    {
      "cell_type": "code",
      "source": [
        "from tensorflow.keras import models, layers\n",
        "\n",
        "# Define the LeNet-5 model using Sequential API\n",
        "model = models.Sequential([\n",
        "    # First Convolutional Layer:\n",
        "    # - Applies 6 convolutional filters of size 5x5\n",
        "    # - Activation function: ReLU (Rectified Linear Unit)\n",
        "    # - Input shape is (28, 28, 1), indicating grayscale images of size 28x28 pixels\n",
        "    layers.Conv2D(6, kernel_size=(5, 5), activation='relu', input_shape=(28, 28, 1)),\n",
        "\n",
        "    # First Average Pooling Layer:\n",
        "    # - Applies average pooling operation to reduce the spatial dimensions (downsampling)\n",
        "    layers.AveragePooling2D(),\n",
        "\n",
        "    # Second Convolutional Layer:\n",
        "    # - Applies 16 convolutional filters of size 5x5\n",
        "    # - Activation function: ReLU\n",
        "    layers.Conv2D(16, kernel_size=(5, 5), activation='relu'),\n",
        "\n",
        "    # Second Average Pooling Layer:\n",
        "    # - Applies average pooling operation to further reduce the spatial dimensions\n",
        "    layers.AveragePooling2D(),\n",
        "\n",
        "    # Flatten Layer:\n",
        "    # - Flattens the input (converts 2D matrix to 1D vector) to prepare for fully connected layers\n",
        "    layers.Flatten(),\n",
        "\n",
        "    # First Fully Connected (Dense) Layer:\n",
        "    # - Contains 120 neurons\n",
        "    # - Activation function: ReLU\n",
        "    layers.Dense(120, activation='relu'),\n",
        "\n",
        "    # Second Fully Connected (Dense) Layer:\n",
        "    # - Contains 84 neurons\n",
        "    # - Activation function: ReLU\n",
        "    layers.Dense(84, activation='relu'),\n",
        "\n",
        "    # Output Layer:\n",
        "    # - Contains 10 neurons (one for each digit class, 0-9)\n",
        "    # - Activation function: Softmax (to output probabilities for each class)\n",
        "    layers.Dense(10, activation='softmax')\n",
        "])\n",
        "\n",
        "# Explanation:\n",
        "# The LeNet-5 model is a pioneering convolutional neural network (CNN) architecture designed for handwritten digit recognition.\n",
        "# It consists of the following layers:\n",
        "# - Convolutional Layers: Extract features from input images by applying convolutional filters. ReLU is used for non-linear activation.\n",
        "# - Average Pooling Layers: Reduce the spatial dimensions of the feature maps, which helps in reducing the computational complexity.\n",
        "# - Flatten Layer: Converts the 2D feature maps into a 1D vector, preparing it for fully connected layers.\n",
        "# - Fully Connected (Dense) Layers: Learn to classify the features extracted by the convolutional layers. ReLU activation introduces non-linearity.\n",
        "# - Output Layer: Produces the final classification output using Softmax activation, which provides the probability distribution over the 10 digit classes.\n",
        "\n",
        "# LeNet-5 was one of the first successful applications of CNNs and paved the way for deeper and more complex neural network architectures.\n"
      ],
      "metadata": {
        "id": "MtGA1Xf6gjA9"
      },
      "execution_count": 3,
      "outputs": []
    },
    {
      "cell_type": "code",
      "source": [
        "'''\n",
        " Explanation:\n",
        " Compiling a model configures it for training. During compilation, the model's optimizer, loss function, and evaluation metrics are specified.\n",
        " - Optimizer: Controls the learning rate and how the model updates its weights. 'adam' is widely used for its efficiency and ability to handle sparse gradients.\n",
        " - Loss function: A measure of how well the model's predictions match the true labels. 'categorical_crossentropy' is ideal for classification tasks with multiple classes.\n",
        " - Metrics: Metrics are used to evaluate the model's performance. 'accuracy' is a straightforward and intuitive metric for classification models, representing the ratio of correct predictions to total predictions.\n",
        "'''\n",
        "\n",
        "\n",
        "# Compiling LeNet-5\n",
        "model.compile(optimizer='adam',\n",
        "              loss='categorical_crossentropy',\n",
        "              metrics=['accuracy'])\n"
      ],
      "metadata": {
        "id": "0pBCcIDsgqyV"
      },
      "execution_count": 12,
      "outputs": []
    },
    {
      "cell_type": "code",
      "source": [
        "# Training the model\n",
        "history = model.fit(x_train, y_train, epochs=10, batch_size=128, validation_data=(x_valid, y_valid))\n"
      ],
      "metadata": {
        "colab": {
          "base_uri": "https://localhost:8080/"
        },
        "id": "DFXiJa-CgtL8",
        "outputId": "edbe7d12-4dee-4e71-f5fc-66d9aba0dee8"
      },
      "execution_count": 5,
      "outputs": [
        {
          "output_type": "stream",
          "name": "stdout",
          "text": [
            "Epoch 1/10\n",
            "391/391 [==============================] - 21s 43ms/step - loss: 0.4320 - accuracy: 0.8719 - val_loss: 0.1386 - val_accuracy: 0.9616\n",
            "Epoch 2/10\n",
            "391/391 [==============================] - 17s 44ms/step - loss: 0.1218 - accuracy: 0.9631 - val_loss: 0.0943 - val_accuracy: 0.9742\n",
            "Epoch 3/10\n",
            "391/391 [==============================] - 17s 43ms/step - loss: 0.0844 - accuracy: 0.9745 - val_loss: 0.0736 - val_accuracy: 0.9802\n",
            "Epoch 4/10\n",
            "391/391 [==============================] - 19s 49ms/step - loss: 0.0675 - accuracy: 0.9784 - val_loss: 0.0637 - val_accuracy: 0.9828\n",
            "Epoch 5/10\n",
            "391/391 [==============================] - 17s 43ms/step - loss: 0.0567 - accuracy: 0.9822 - val_loss: 0.0580 - val_accuracy: 0.9837\n",
            "Epoch 6/10\n",
            "391/391 [==============================] - 17s 44ms/step - loss: 0.0488 - accuracy: 0.9847 - val_loss: 0.0581 - val_accuracy: 0.9832\n",
            "Epoch 7/10\n",
            "391/391 [==============================] - 19s 49ms/step - loss: 0.0428 - accuracy: 0.9867 - val_loss: 0.0549 - val_accuracy: 0.9829\n",
            "Epoch 8/10\n",
            "391/391 [==============================] - 18s 45ms/step - loss: 0.0378 - accuracy: 0.9884 - val_loss: 0.0558 - val_accuracy: 0.9847\n",
            "Epoch 9/10\n",
            "391/391 [==============================] - 17s 43ms/step - loss: 0.0341 - accuracy: 0.9891 - val_loss: 0.0630 - val_accuracy: 0.9824\n",
            "Epoch 10/10\n",
            "391/391 [==============================] - 19s 48ms/step - loss: 0.0315 - accuracy: 0.9900 - val_loss: 0.0518 - val_accuracy: 0.9868\n"
          ]
        }
      ]
    },
    {
      "cell_type": "code",
      "source": [
        "# Evaluating\n",
        "test_loss, test_acc = model.evaluate(x_test, y_test)\n",
        "print(f'Test accuracy: {test_acc}')"
      ],
      "metadata": {
        "colab": {
          "base_uri": "https://localhost:8080/"
        },
        "id": "qX0z04JY2DFc",
        "outputId": "556d3170-21e6-4cbd-b932-2babfad95349"
      },
      "execution_count": 7,
      "outputs": [
        {
          "output_type": "stream",
          "name": "stdout",
          "text": [
            "313/313 [==============================] - 2s 5ms/step - loss: 0.0358 - accuracy: 0.9889\n",
            "Test accuracy: 0.9889000058174133\n"
          ]
        }
      ]
    },
    {
      "cell_type": "code",
      "source": [
        "# Displaying the data\n",
        "some_digit = x_test[0].reshape(28, 28)\n",
        "plt.imshow(some_digit, cmap=plt.cm.binary)\n",
        "plt.axis(\"off\")\n",
        "plt.show()\n",
        "\n"
      ],
      "metadata": {
        "colab": {
          "base_uri": "https://localhost:8080/",
          "height": 406
        },
        "id": "iFQhnwpt0hCC",
        "outputId": "232a2899-79d8-4548-cd38-1d99cc851290"
      },
      "execution_count": 8,
      "outputs": [
        {
          "output_type": "display_data",
          "data": {
            "text/plain": [
              "<Figure size 640x480 with 1 Axes>"
            ],
            "image/png": "[encoded data removed]"
          },
          "metadata": {}
        }
      ]
    },
    {
      "cell_type": "code",
      "source": [
        " \"\"\"\n",
        "    Display predictions for a given number of test samples.\n",
        "\n",
        "    Args:\n",
        "    - model: Trained Keras model to make predictions.\n",
        "    - x_test: Test images, numpy array of shape (num_samples, 28, 28, 1).\n",
        "    - y_test: True labels for the test images, one-hot encoded, numpy array of shape (num_samples, 10).\n",
        "    - num_samples: Number of samples to display predictions for (default is 10).\n",
        " \"\"\"\n",
        "\n",
        "# trying to predicit the model\n",
        "\n",
        "def display_predictions(model, x_test, y_test, num_samples=10):\n",
        "\n",
        "    for i in range(num_samples):\n",
        "        plt.figure(figsize=(4, 4)) # Creating a new figure for each sample\n",
        "        plt.imshow(x_test[i].reshape(28, 28), cmap=plt.cm.binary)# Displaying the test image\n",
        "        plt.axis('off')# Hiding the axis\n",
        "        prediction = model.predict(x_test[i].reshape(1, 28, 28, 1)) # predicting for the current test image\n",
        "        predicted_label = np.argmax(prediction) # Getting the predicted label (index of the highest probability)\n",
        "        true_label = np.argmax(y_test[i]) # Getting the true label (index of the highest value in the one-hot encoded label)\n",
        "        plt.title(f'Result: {predicted_label}, True: {true_label}')  # Setting the title of the plot with the predicted and true labels\n",
        "        plt.show()\n",
        "\n",
        "#number of samples\n",
        "display_predictions(model, x_test, y_test, num_samples=10)"
      ],
      "metadata": {
        "colab": {
          "base_uri": "https://localhost:8080/",
          "height": 1000
        },
        "id": "7UR2n9zx0k2G",
        "outputId": "89b0e8da-82bc-4a3f-e00f-cb4be9521346"
      },
      "execution_count": 17,
      "outputs": [
        {
          "output_type": "stream",
          "name": "stdout",
          "text": [
            "1/1 [==============================] - 0s 21ms/step\n"
          ]
        },
        {
          "output_type": "display_data",
          "data": {
            "text/plain": [
              "<Figure size 400x400 with 1 Axes>"
            ],
            "image/png": "[encoded data removed]"
          },
          "metadata": {}
        },
        {
          "output_type": "stream",
          "name": "stdout",
          "text": [
            "1/1 [==============================] - 0s 21ms/step\n"
          ]
        },
        {
          "output_type": "display_data",
          "data": {
            "text/plain": [
              "<Figure size 400x400 with 1 Axes>"
            ],
            "image/png": "[encoded data removed]"
          },
          "metadata": {}
        },
        {
          "output_type": "stream",
          "name": "stdout",
          "text": [
            "1/1 [==============================] - 0s 23ms/step\n"
          ]
        },
        {
          "output_type": "display_data",
          "data": {
            "text/plain": [
              "<Figure size 400x400 with 1 Axes>"
            ],
            "image/png": "[encoded data removed]"
          },
          "metadata": {}
        },
        {
          "output_type": "stream",
          "name": "stdout",
          "text": [
            "1/1 [==============================] - 0s 25ms/step\n"
          ]
        },
        {
          "output_type": "display_data",
          "data": {
            "text/plain": [
              "<Figure size 400x400 with 1 Axes>"
            ],
            "image/png": "[encoded data removed]"
          },
          "metadata": {}
        },
        {
          "output_type": "stream",
          "name": "stdout",
          "text": [
            "1/1 [==============================] - 0s 23ms/step\n"
          ]
        },
        {
          "output_type": "display_data",
          "data": {
            "text/plain": [
              "<Figure size 400x400 with 1 Axes>"
            ],
            "image/png": "[encoded data removed]"
          },
          "metadata": {}
        },
        {
          "output_type": "stream",
          "name": "stdout",
          "text": [
            "1/1 [==============================] - 0s 23ms/step\n"
          ]
        },
        {
          "output_type": "display_data",
          "data": {
            "text/plain": [
              "<Figure size 400x400 with 1 Axes>"
            ],
            "image/png": "[encoded data removed]"
          },
          "metadata": {}
        },
        {
          "output_type": "stream",
          "name": "stdout",
          "text": [
            "1/1 [==============================] - 0s 21ms/step\n"
          ]
        },
        {
          "output_type": "display_data",
          "data": {
            "text/plain": [
              "<Figure size 400x400 with 1 Axes>"
            ],
            "image/png": "[encoded data removed]"
          },
          "metadata": {}
        },
        {
          "output_type": "stream",
          "name": "stdout",
          "text": [
            "1/1 [==============================] - 0s 20ms/step\n"
          ]
        },
        {
          "output_type": "display_data",
          "data": {
            "text/plain": [
              "<Figure size 400x400 with 1 Axes>"
            ],
            "image/png": "[encoded data removed]"
          },
          "metadata": {}
        },
        {
          "output_type": "stream",
          "name": "stdout",
          "text": [
            "1/1 [==============================] - 0s 22ms/step\n"
          ]
        },
        {
          "output_type": "display_data",
          "data": {
            "text/plain": [
              "<Figure size 400x400 with 1 Axes>"
            ],
            "image/png": "[encoded data removed]"
          },
          "metadata": {}
        },
        {
          "output_type": "stream",
          "name": "stdout",
          "text": [
            "1/1 [==============================] - 0s 21ms/step\n"
          ]
        },
        {
          "output_type": "display_data",
          "data": {
            "text/plain": [
              "<Figure size 400x400 with 1 Axes>"
            ],
            "image/png": "[encoded data removed]"
          },
          "metadata": {}
        }
      ]
    }
  ]
}